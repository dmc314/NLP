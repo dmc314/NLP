{
 "cells": [
  {
   "cell_type": "markdown",
   "id": "5459e3df",
   "metadata": {},
   "source": [
    "# Translate SRT files from English to Chinese and Spanish for Youtube Video captions"
   ]
  },
  {
   "cell_type": "code",
   "execution_count": 1,
   "id": "0c917aff",
   "metadata": {},
   "outputs": [],
   "source": [
    "# python script that does the following:\n",
    "\n",
    "# 1) import an .srt file like those used for closed captioning,\n",
    "# 2) read each line of text into a python data structure\n",
    "# 3) write a new python data structure where each line of text has two new lines of text inserted below it:\n",
    "#   3a) the first new line is the original text translated from english to chinese mandarin\n",
    "#   3b) the second new line is the original text translated from english to spanish\n",
    "# 4) convert the new python data structure such that it exports a new .srt file the same as the original except for the inserted new translations.\n",
    "\n",
    "import re\n",
    "import json\n",
    "import requests"
   ]
  },
  {
   "cell_type": "code",
   "execution_count": 2,
   "id": "11e5a669",
   "metadata": {},
   "outputs": [
    {
     "data": {
      "text/plain": [
       "'hola pollo'"
      ]
     },
     "execution_count": 2,
     "metadata": {},
     "output_type": "execute_result"
    }
   ],
   "source": [
    "# Try out the Google Translate API:\n",
    "requests.get('https://translate.google.com/translate_a/single?client=gtx&sl=en&tl=ES&dt=t&q=' + \\\n",
    "             \"hi there chicken\").json()[0][0][0]"
   ]
  },
  {
   "cell_type": "code",
   "execution_count": 3,
   "id": "c095676b",
   "metadata": {},
   "outputs": [],
   "source": [
    "#open and read in the .srt file\n",
    "with open('Live-Fine-Tuning-of-CE-params_otter_ai.srt', 'r') as f:\n",
    "    data = f.readlines()"
   ]
  },
  {
   "cell_type": "code",
   "execution_count": 54,
   "id": "0efcffd9",
   "metadata": {},
   "outputs": [],
   "source": [
    "#declare variables\n",
    "translated_data = []\n",
    "final_data = []\n",
    "\n",
    "data2 = [line[:-1] for line in data]\n",
    "\n",
    "#iterate through each line of the .srt file\n",
    "for line in data2:\n",
    "    #use regular expression to identify lines with text\n",
    "    if (re.match('^[0-9]+$', line) is None) & (\"-->\" not in line):\n",
    "        #for each line, translate to Chinese Mandarin and Spanish\n",
    "        try:\n",
    "            mandarin_translation = requests.get('https://translate.google.com/translate_a/single?client=gtx&sl=en&tl=zh-CN&dt=t&q=' + line).json()[0][0][0]\n",
    "        except:\n",
    "            mandarin_translation = \"\"\n",
    "        try:\n",
    "            spanish_translation = requests.get('https://translate.google.com/translate_a/single?client=gtx&sl=en&tl=es&dt=t&q=' + line).json()[0][0][0]\n",
    "        except:\n",
    "            spanish_translation = \"\"\n",
    "        #append the original line and its two translations to an array\n",
    "        translated_data.append(line + '\\n' + mandarin_translation + '\\n' + spanish_translation)\n",
    "\n",
    "#         print(line)\n",
    "#         print(mandarin_translation)\n",
    "#         print(spanish_translation)\n",
    "#         print(\"\")\n",
    "        \n",
    "    else:\n",
    "        #if the line is not a text line, it is a timecode, so just append it to the array\n",
    "        translated_data.append(line)\n"
   ]
  },
  {
   "cell_type": "code",
   "execution_count": 47,
   "id": "3004690f",
   "metadata": {},
   "outputs": [],
   "source": [
    "#iterate through the translated array and format for the new .srt file\n",
    "for line in translated_data:\n",
    "    #if the line is a timecode, append it to the array with one new line\n",
    "    if re.match('^[0-9]+$', line) is not None:\n",
    "        final_data.append(line + '\\n')\n",
    "    else:\n",
    "        #if the line is not a timecode, append it to the array with two new lines\n",
    "        final_data.append(line + '\\n')"
   ]
  },
  {
   "cell_type": "code",
   "execution_count": 53,
   "id": "f3a7b94f",
   "metadata": {},
   "outputs": [],
   "source": [
    "#write a new .srt file with the translated text\n",
    "with open('translated_caption_file.srt', 'w') as f:\n",
    "    f.writelines(s + '\\n' for s in final_data)"
   ]
  },
  {
   "cell_type": "code",
   "execution_count": 52,
   "id": "f934bba4",
   "metadata": {},
   "outputs": [],
   "source": [
    "# for line in final_data:\n",
    "#     print(line)"
   ]
  },
  {
   "cell_type": "code",
   "execution_count": null,
   "id": "829613a1",
   "metadata": {},
   "outputs": [],
   "source": []
  }
 ],
 "metadata": {
  "kernelspec": {
   "display_name": "Python 3 (ipykernel)",
   "language": "python",
   "name": "python3"
  },
  "language_info": {
   "codemirror_mode": {
    "name": "ipython",
    "version": 3
   },
   "file_extension": ".py",
   "mimetype": "text/x-python",
   "name": "python",
   "nbconvert_exporter": "python",
   "pygments_lexer": "ipython3",
   "version": "3.8.10"
  }
 },
 "nbformat": 4,
 "nbformat_minor": 5
}

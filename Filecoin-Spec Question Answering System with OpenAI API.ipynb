{
 "cells": [
  {
   "cell_type": "markdown",
   "metadata": {},
   "source": [
    "# Filecoin-Spec Question Answering System with OpenAI API\n",
    "See idea in https://simonwillison.net/2023/Jan/13/semantic-search-answers/ <br>\n",
    "See notebook from OpenAI where idea is implemented: https://github.com/openai/openai-cookbook/blob/main/examples/Question_answering_using_embeddings.ipynb  <br>\n",
    "Also see: Haystack Deepset Tool: https://haystack.deepset.ai/tutorials/01_basic_qa_pipeline#preparing-documents\n",
    "\n"
   ]
  },
  {
   "cell_type": "code",
   "execution_count": 35,
   "metadata": {},
   "outputs": [],
   "source": [
    "from urllib.request import urlopen\n",
    "from bs4 import BeautifulSoup\n",
    "import re, requests\n",
    "from fuzzywuzzy import fuzz, process"
   ]
  },
  {
   "cell_type": "markdown",
   "metadata": {},
   "source": [
    "## Scrape and Assemble Desired Content"
   ]
  },
  {
   "cell_type": "code",
   "execution_count": 36,
   "metadata": {},
   "outputs": [
    {
     "data": {
      "text/plain": [
       "bs4.BeautifulSoup"
      ]
     },
     "execution_count": 36,
     "metadata": {},
     "output_type": "execute_result"
    }
   ],
   "source": [
    "URL = \"https://spec.filecoin.io/\"\n",
    "r = requests.get(URL)\n",
    "  \n",
    "soup = BeautifulSoup(r.content)\n",
    "type(soup)"
   ]
  },
  {
   "cell_type": "code",
   "execution_count": 37,
   "metadata": {},
   "outputs": [
    {
     "name": "stdout",
     "output_type": "stream",
     "text": [
      "<title>Home | Filecoin Spec</title>\n"
     ]
    }
   ],
   "source": [
    "# Get the title\n",
    "title = soup.title\n",
    "print(title)"
   ]
  },
  {
   "cell_type": "code",
   "execution_count": 38,
   "metadata": {
    "scrolled": true
   },
   "outputs": [
    {
     "name": "stdout",
     "output_type": "stream",
     "text": [
      "locks6.2.1.1.1.1 Block Single6.2.1.1.1.2 Block Short6.2.1.1.1.3 Block Long6.2.1.1.1.4 Bit Numbering6.2.2 HAMT6.2.3 Other Considerations6.3 Filecoin Parameters6.3.1 Orient parameters6.4 Audit Reports6.4.1 Lotus6.4.1.1 2020-10-20 Lotus Mainnet Ready Security Audit6.4.2 Actors6.4.2.1 2020-10-19 Actors Mainnet Ready Security Audit6.4.3 Proofs6.4.3.1 2020-10-20 Filecoin Bellman and BLS Signatures6.4.3.2 2020-07-28 Filecoin Proving Subsystem6.4.3.3 2020-07-28 zk-SNARK proofs6.4.4 GossipSub6.4.4.1 2020-06-03 GossipSub Design and Implementation6.4.4.2 2020-04-18 GossipSub Evaluation6.4.5 Drand6.4.5.1 2020-08-09 drand reference implementation Security Audit7 Filecoin Implementations7.1 Lotus7.2 Venus7.3 Forest7.4 Fuhon (cpp-filecoin)8 Releases8.1 v2.1.18.1.1 Bug Fixes8.2 v2.1.08.2.1 Bug Fixes8.2.2 Features8.3 v2.0.08.3.1 Bug Fixes8.3.2 FeaturesIntroductionState reliableTheory Audit n/aEdit this sectionsection-introFilecoin is a distributed storage network based on a blockchain mechanism.\n",
      "Fileco\n"
     ]
    }
   ],
   "source": [
    "# Print out the text\n",
    "text = soup.get_text()\n",
    "print(soup.text[12000:13000])"
   ]
  },
  {
   "cell_type": "code",
   "execution_count": 39,
   "metadata": {},
   "outputs": [
    {
     "data": {
      "text/plain": [
       "951469"
      ]
     },
     "execution_count": 39,
     "metadata": {},
     "output_type": "execute_result"
    }
   ],
   "source": [
    "len(soup.text)"
   ]
  },
  {
   "cell_type": "markdown",
   "metadata": {},
   "source": [
    "## Divide into Searchable Index\n",
    "\n",
    "There are much better methods to do this like index into Elasticsearch or Deepset Haystack. Just a traditional search engine to take Top N results."
   ]
  },
  {
   "cell_type": "code",
   "execution_count": 45,
   "metadata": {
    "scrolled": true
   },
   "outputs": [],
   "source": [
    "text_chunk_chars = 300\n",
    "text_overlap = 30\n",
    "list_of_texts = []\n",
    "for i in range(12000,len(soup.text)-text_overlap,text_chunk_chars):\n",
    "    list_of_texts.append(soup.text[i:(i+text_chunk_chars+text_overlap)])"
   ]
  },
  {
   "cell_type": "code",
   "execution_count": 168,
   "metadata": {},
   "outputs": [],
   "source": [
    "query = \"Is Initial Pledge higher PreCommitDeposit?\"\n",
    "# Note query can be in multiple languages if search supports it\n",
    "\n",
    "# OLD char search\n",
    "# prompt_blob = [i for i in list_of_texts if query_keyword in i]\n",
    "# print(len(prompt_blob))\n",
    "# prompt_blob = \"... ...\".join(prompt_blob)\n",
    "# print(prompt_blob)"
   ]
  },
  {
   "cell_type": "code",
   "execution_count": 172,
   "metadata": {},
   "outputs": [
    {
     "name": "stdout",
     "output_type": "stream",
     "text": [
      "10\n"
     ]
    }
   ],
   "source": [
    "# text similarity search with FuzzyWuzzy - https://github.com/seatgeek/fuzzywuzzy\n",
    "search_results = process.extract(query, list_of_texts, limit=10, scorer=fuzz.token_set_ratio)\n",
    "print(len(search_results))"
   ]
  },
  {
   "cell_type": "code",
   "execution_count": 173,
   "metadata": {},
   "outputs": [
    {
     "name": "stdout",
     "output_type": "stream",
     "text": [
      "eCommitSector or ProveCommitAggregate with SectorProveCommitInfowithin some bound to recover the deposit. Initial pledge will then be required at time ofProveCommit. Initial Pledge is usually higher than PreCommitDeposit. Recovered PreCommitDepositwill count towards Initial Pledge and miners only need to top up additional funds atProveCommit. Exces... ...ed to top up additional funds atProveCommit. Excess PreCommitDeposit, when it is greater than Initial Pledge, will be returned to the miner. An expired PreCommitmessage will result inPreCommitDepositbeing burned. All Sectors have an explicit expiration epoch declared duringPreCommit. For sectors with deals, all deals must expire before sector expir... ...eCommitted on time, this deposit is removed and burned.Initial Pledge: When a Miner ProveCommits a Sector, they must supply an “initial pledge” for the Sector, which acts as collateral. If the Sector is terminated, this deposit is removed and burned along with rewards earned by this sector up to a limit.Locked Funds: When a Miner receives tokens fr... ..., pwr, builtin.EpochsInDay)\n",
      "\t\t\t// The storage pledge is recorded for use in computing the penalty if this sector is terminated\n",
      "\t\t\t// before its declared expiration.\n",
      "\t\t\t// It's not capped to 1 FIL, so can exceed the actual initial pledge requirement.\n",
      "\t\t\tstoragePledge := ExpectedRewardForPower(thisEpochRewardSmoothed, qualityAdjPowerSmoothed, pwr, In... ...t also requires acquiring large quantities of the token.To satisfy the multiple needs for collateral in a way that is minimally burdensome to miners, Filecoin includes three different collateral mechanisms: initial pledge collateral, block reward as collateral, and storage deal provider collateral. The first is an initial commitment of filecoin tha... ...e protocol can use the minersʼ stake in the network to ensure that rational behavior benefits the network, rewarding the creation of value and penalizing malicious behavior via slashing. The pledge size is meant to adequately incentivize the fulfillment of a sectorʼs promised lifetime and provide sufficient consensus security.Hence, the initial ple... ...ional collateral reduces initial storage pledge without compromising the incentive alignment of the network. This is discussed in more depth in the following subsection. A balance is achieved by using an initial storage pledge amount approximately sufficient to cover 7 days worth of Sector fault fee and 1 Sector fault detection fee. This is denomin... ...ets approximately 30% of the network’s circulating supply locked up in initial consensus pledge when it is at or above the baseline. This is achieved with a small pledge share allocated to sectors based on their share of the networkʼs quality-adjusted power. Given an exponentially growing baseline, initial pledge per unit QAP should decrease over t... ...ock reward is used as collateral. This allows the protocol to require a smaller but still meaningful initial pledge. Block rewards earned by a sector are subject to slashing if a sector is terminated before its expiration. However, due to chain state limitations, the protocol is unable to do accounting on a per sector level, which would be the most... ...restricted until their balance is restored. Overall, this reduces the initial pledge requirement and creates a sufficient economic deterrent for faults without slashing the miner’s balance for every penalty.Storage Deal CollateralState reliableTheory Audit n/aEdit this sectionsection-systems.filecoin_mining.miner_collaterals.storage-deal-collateral\n"
     ]
    }
   ],
   "source": [
    "prompt_blob = [i[0] for i in search_results]\n",
    "prompt_blob = \"... ...\".join(prompt_blob)\n",
    "print(prompt_blob)"
   ]
  },
  {
   "cell_type": "markdown",
   "metadata": {},
   "source": [
    "## Dynamically Create OpenAI Prompt including most Relevant Content "
   ]
  },
  {
   "cell_type": "code",
   "execution_count": 187,
   "metadata": {},
   "outputs": [
    {
     "name": "stdout",
     "output_type": "stream",
     "text": [
      "Answer the question as truthfully as possible using the provided text, \n",
      "and if the answer is not contained within the text below, say \"I don't know,\n",
      "and finally, provide the answer translated into Spanish, and Chinese Mandarin.\"\n",
      "\n",
      "Context: [eCommitSector or ProveCommitAggregate with SectorProveCommitInfowithin some bound to recover the deposit. Initial pledge will then be required at time ofProveCommit. Initial Pledge is usually higher than PreCommitDeposit. Recovered PreCommitDepositwill count towards Initial Pledge and miners only need to top up additional funds atProveCommit. Exces... ...ed to top up additional funds atProveCommit. Excess PreCommitDeposit, when it is greater than Initial Pledge, will be returned to the miner. An expired PreCommitmessage will result inPreCommitDepositbeing burned. All Sectors have an explicit expiration epoch declared duringPreCommit. For sectors with deals, all deals must expire before sector expir... ...eCommitted on time, this deposit is removed and burned.Initial Pledge: When a Miner ProveCommits a Sector, they must supply an “initial pledge” for the Sector, which acts as collateral. If the Sector is terminated, this deposit is removed and burned along with rewards earned by this sector up to a limit.Locked Funds: When a Miner receives tokens fr... ..., pwr, builtin.EpochsInDay)\n",
      "\t\t\t// The storage pledge is recorded for use in computing the penalty if this sector is terminated\n",
      "\t\t\t// before its declared expiration.\n",
      "\t\t\t// It's not capped to 1 FIL, so can exceed the actual initial pledge requirement.\n",
      "\t\t\tstoragePledge := ExpectedRewardForPower(thisEpochRewardSmoothed, qualityAdjPowerSmoothed, pwr, In... ...t also requires acquiring large quantities of the token.To satisfy the multiple needs for collateral in a way that is minimally burdensome to miners, Filecoin includes three different collateral mechanisms: initial pledge collateral, block reward as collateral, and storage deal provider collateral. The first is an initial commitment of filecoin tha... ...e protocol can use the minersʼ stake in the network to ensure that rational behavior benefits the network, rewarding the creation of value and penalizing malicious behavior via slashing. The pledge size is meant to adequately incentivize the fulfillment of a sectorʼs promised lifetime and provide sufficient consensus security.Hence, the initial ple... ...ional collateral reduces initial storage pledge without compromising the incentive alignment of the network. This is discussed in more depth in the following subsection. A balance is achieved by using an initial storage pledge amount approximately sufficient to cover 7 days worth of Sector fault fee and 1 Sector fault detection fee. This is denomin... ...ets approximately 30% of the network’s circulating supply locked up in initial consensus pledge when it is at or above the baseline. This is achieved with a small pledge share allocated to sectors based on their share of the networkʼs quality-adjusted power. Given an exponentially growing baseline, initial pledge per unit QAP should decrease over t... ...ock reward is used as collateral. This allows the protocol to require a smaller but still meaningful initial pledge. Block rewards earned by a sector are subject to slashing if a sector is terminated before its expiration. However, due to chain state limitations, the protocol is unable to do accounting on a per sector level, which would be the most... ...restricted until their balance is restored. Overall, this reduces the initial pledge requirement and creates a sufficient economic deterrent for faults without slashing the miner’s balance for every penalty.Storage Deal CollateralState reliableTheory Audit n/aEdit this sectionsection-systems.filecoin_mining.miner_collaterals.storage-deal-collateral]\n",
      "\n",
      "Q: Is Initial Pledge higher PreCommitDeposit??\n",
      "\n",
      "A:\n"
     ]
    }
   ],
   "source": [
    "prompt = \"\"\"Answer the question as truthfully as possible using the provided text, \n",
    "and if the answer is not contained within the text below, say \"I don't know,\n",
    "and finally, provide the answer translated into Spanish, and Chinese Mandarin.\"\n",
    "\n",
    "Context: [\"\"\" + str(prompt_blob) + \"\"\"]\n",
    "\n",
    "Q: \"\"\" + query +\"\"\"?\n",
    "\n",
    "A:\"\"\"\n",
    "print(prompt)"
   ]
  },
  {
   "cell_type": "code",
   "execution_count": 188,
   "metadata": {},
   "outputs": [],
   "source": [
    "import openai\n",
    "import os\n",
    "from dotenv import load_dotenv, find_dotenv\n",
    "from pathlib import Path\n",
    "\n",
    "COMPLETIONS_MODEL = \"text-davinci-003\"\n",
    "EMBEDDING_MODEL = \"text-embedding-ada-002\""
   ]
  },
  {
   "cell_type": "code",
   "execution_count": 189,
   "metadata": {},
   "outputs": [],
   "source": [
    "load_dotenv(Path(os.getcwd() + '/.env'))\n",
    "openai.api_key = os.getenv(\"OPENAI_API_KEY\")\n",
    "# print(os.getenv(\"OPENAI_API_KEY\"))"
   ]
  },
  {
   "cell_type": "code",
   "execution_count": 190,
   "metadata": {},
   "outputs": [
    {
     "data": {
      "text/plain": [
       "'Yes, Initial Pledge is usually higher than PreCommitDeposit.\\n\\nSpanish: Sí, el compromiso inicial suele ser mayor que el depósito PreCommit.\\nChinese Mandarin: 是的，初始承诺通常高于PreCommitDeposit。'"
      ]
     },
     "execution_count": 190,
     "metadata": {},
     "output_type": "execute_result"
    }
   ],
   "source": [
    "openai.Completion.create(\n",
    "    prompt=prompt,\n",
    "    temperature=0,\n",
    "    max_tokens=600,\n",
    "    top_p=1,\n",
    "    frequency_penalty=0,\n",
    "    presence_penalty=0,\n",
    "    model=COMPLETIONS_MODEL\n",
    ")[\"choices\"][0][\"text\"].strip(\" \\n\")"
   ]
  },
  {
   "cell_type": "code",
   "execution_count": null,
   "metadata": {},
   "outputs": [],
   "source": []
  },
  {
   "cell_type": "code",
   "execution_count": null,
   "metadata": {},
   "outputs": [],
   "source": []
  },
  {
   "cell_type": "code",
   "execution_count": null,
   "metadata": {},
   "outputs": [],
   "source": []
  },
  {
   "cell_type": "code",
   "execution_count": null,
   "metadata": {},
   "outputs": [],
   "source": []
  },
  {
   "cell_type": "code",
   "execution_count": null,
   "metadata": {},
   "outputs": [],
   "source": []
  },
  {
   "cell_type": "code",
   "execution_count": null,
   "metadata": {},
   "outputs": [],
   "source": []
  }
 ],
 "metadata": {
  "kernelspec": {
   "display_name": "Python 3 (ipykernel)",
   "language": "python",
   "name": "python3"
  },
  "language_info": {
   "codemirror_mode": {
    "name": "ipython",
    "version": 3
   },
   "file_extension": ".py",
   "mimetype": "text/x-python",
   "name": "python",
   "nbconvert_exporter": "python",
   "pygments_lexer": "ipython3",
   "version": "3.8.10"
  }
 },
 "nbformat": 4,
 "nbformat_minor": 2
}

{
 "cells": [
  {
   "cell_type": "markdown",
   "metadata": {},
   "source": [
    "# Filecoin-Spec Question Answering System with OpenAI API\n",
    "See idea in https://simonwillison.net/2023/Jan/13/semantic-search-answers/ <br>\n",
    "See notebook from OpenAI where idea is implemented: https://github.com/openai/openai-cookbook/blob/main/examples/Question_answering_using_embeddings.ipynb  <br>\n",
    "Also see: Haystack Deepset Tool: https://haystack.deepset.ai/tutorials/01_basic_qa_pipeline#preparing-documents\n",
    "\n"
   ]
  },
  {
   "cell_type": "code",
   "execution_count": 1,
   "metadata": {},
   "outputs": [],
   "source": [
    "from urllib.request import urlopen\n",
    "from bs4 import BeautifulSoup\n",
    "# import pandas as pd\n",
    "# from pandas.io import sql\n",
    "# import numpy as np\n",
    "# from datetime import datetime, timedelta\n",
    "import re, requests"
   ]
  },
  {
   "cell_type": "markdown",
   "metadata": {},
   "source": [
    "## Scrape and Assemble Desired Content"
   ]
  },
  {
   "cell_type": "code",
   "execution_count": 2,
   "metadata": {},
   "outputs": [
    {
     "data": {
      "text/plain": [
       "bs4.BeautifulSoup"
      ]
     },
     "execution_count": 2,
     "metadata": {},
     "output_type": "execute_result"
    }
   ],
   "source": [
    "URL = \"https://spec.filecoin.io/\"\n",
    "r = requests.get(URL)\n",
    "  \n",
    "soup = BeautifulSoup(r.content)\n",
    "type(soup)"
   ]
  },
  {
   "cell_type": "code",
   "execution_count": 3,
   "metadata": {},
   "outputs": [
    {
     "name": "stdout",
     "output_type": "stream",
     "text": [
      "<title>Home | Filecoin Spec</title>\n"
     ]
    }
   ],
   "source": [
    "# Get the title\n",
    "title = soup.title\n",
    "print(title)"
   ]
  },
  {
   "cell_type": "code",
   "execution_count": 4,
   "metadata": {
    "scrolled": true
   },
   "outputs": [
    {
     "name": "stdout",
     "output_type": "stream",
     "text": [
      "locks6.2.1.1.1.1 Block Single6.2.1.1.1.2 Block Short6.2.1.1.1.3 Block Long6.2.1.1.1.4 Bit Numbering6.2.2 HAMT6.2.3 Other Considerations6.3 Filecoin Parameters6.3.1 Orient parameters6.4 Audit Reports6.4.1 Lotus6.4.1.1 2020-10-20 Lotus Mainnet Ready Security Audit6.4.2 Actors6.4.2.1 2020-10-19 Actors Mainnet Ready Security Audit6.4.3 Proofs6.4.3.1 2020-10-20 Filecoin Bellman and BLS Signatures6.4.3.2 2020-07-28 Filecoin Proving Subsystem6.4.3.3 2020-07-28 zk-SNARK proofs6.4.4 GossipSub6.4.4.1 2020-06-03 GossipSub Design and Implementation6.4.4.2 2020-04-18 GossipSub Evaluation6.4.5 Drand6.4.5.1 2020-08-09 drand reference implementation Security Audit7 Filecoin Implementations7.1 Lotus7.2 Venus7.3 Forest7.4 Fuhon (cpp-filecoin)8 Releases8.1 v2.1.18.1.1 Bug Fixes8.2 v2.1.08.2.1 Bug Fixes8.2.2 Features8.3 v2.0.08.3.1 Bug Fixes8.3.2 FeaturesIntroductionState reliableTheory Audit n/aEdit this sectionsection-introFilecoin is a distributed storage network based on a blockchain mechanism.\n",
      "Fileco\n"
     ]
    }
   ],
   "source": [
    "# Print out the text\n",
    "text = soup.get_text()\n",
    "print(soup.text[12000:13000])"
   ]
  },
  {
   "cell_type": "code",
   "execution_count": 5,
   "metadata": {},
   "outputs": [
    {
     "data": {
      "text/plain": [
       "951469"
      ]
     },
     "execution_count": 5,
     "metadata": {},
     "output_type": "execute_result"
    }
   ],
   "source": [
    "len(soup.text)"
   ]
  },
  {
   "cell_type": "markdown",
   "metadata": {},
   "source": [
    "## Divide into Searchable Index\n",
    "\n",
    "There are much better methods to do this like index into Elasticsearch or Deepset Haystack. Just a traditional search engine to take Top N results."
   ]
  },
  {
   "cell_type": "code",
   "execution_count": 6,
   "metadata": {
    "scrolled": true
   },
   "outputs": [],
   "source": [
    "text_chunk_chars = 400\n",
    "list_of_texts = []\n",
    "for i in range(12000,len(soup.text),text_chunk_chars):\n",
    "    list_of_texts.append(soup.text[i:(i+text_chunk_chars)])"
   ]
  },
  {
   "cell_type": "code",
   "execution_count": 7,
   "metadata": {},
   "outputs": [
    {
     "name": "stdout",
     "output_type": "stream",
     "text": [
      "['locks6.2.1.1.1.1 Block Single6.2.1.1.1.2 Block Short6.2.1.1.1.3 Block Long6.2.1.1.1.4 Bit Numbering6.2.2 HAMT6.2.3 Other Considerations6.3 Filecoin Parameters6.3.1 Orient parameters6.4 Audit Reports6.4.1 Lotus6.4.1.1 2020-10-20 Lotus Mainnet Ready Security Audit6.4.2 Actors6.4.2.1 2020-10-19 Actors Mainnet Ready Security Audit6.4.3 Proofs6.4.3.1 2020-10-20 Filecoin Bellman and BLS Signatures6.4.3.', '2 2020-07-28 Filecoin Proving Subsystem6.4.3.3 2020-07-28 zk-SNARK proofs6.4.4 GossipSub6.4.4.1 2020-06-03 GossipSub Design and Implementation6.4.4.2 2020-04-18 GossipSub Evaluation6.4.5 Drand6.4.5.1 2020-08-09 drand reference implementation Security Audit7 Filecoin Implementations7.1 Lotus7.2 Venus7.3 Forest7.4 Fuhon (cpp-filecoin)8 Releases8.1 v2.1.18.1.1 Bug Fixes8.2 v2.1.08.2.1 Bug Fixes8.2.2 ', 'Features8.3 v2.0.08.3.1 Bug Fixes8.3.2 FeaturesIntroductionState reliableTheory Audit n/aEdit this sectionsection-introFilecoin is a distributed storage network based on a blockchain mechanism.\\nFilecoin miners can elect to provide storage capacity for the network, and thereby\\nearn units of the Filecoin cryptocurrency (FIL) by periodically producing\\ncryptographic proofs that certify that they are p']\n"
     ]
    }
   ],
   "source": [
    "print(list_of_texts[0:3])"
   ]
  },
  {
   "cell_type": "code",
   "execution_count": 30,
   "metadata": {},
   "outputs": [
    {
     "name": "stdout",
     "output_type": "stream",
     "text": [
      "8\n",
      "['balance MUST cover ALL of the following:PreCommit Deposits: When a Miner PreCommits a Sector, they must supply a “precommit deposit” for the Sector, which acts as collateral. If the Sector is not ProveCommitted on time, this deposit is removed and burned.Initial Pledge: When a Miner ProveCommits a Sector, they must supply an “initial pledge” for the Sector, which acts as collateral. If the Sector ', 'd is a mechanism to reduce the initial token commitment by vesting block rewards over time. The third aligns incentives between miner and client, and can allow miners to differentiate themselves in the market. The remainder of this subsection describes each in more detail.Initial Pledge CollateralState reliableTheory Audit n/aEdit this sectionsection-systems.filecoin_mining.miner_collaterals.initi', 'ay creates the necessary sub-linearity. This sub-linearity has been introduced by the Initial Pledge.In general, fault fees are slashed first from the soonest-to-vest unvested block rewards followed by the minerʼs account balance. When a minerʼs balance is insufficient to cover their minimum requirements, their ability to participate in consensus, win block rewards, and grow storage power will be ', 'ket_actor.storage-deal-collateralApart from\\nInitial Pledge Collateral and Block Reward Collateral discussed earlier, the third form of collateral is provided by the storage provider to collateralize deals, is called Storage Deal Collateral and is held in the StorageMarketActor.There is a minimum amount of collateral required by the protocol to provide a minimum level of guarantee, which is agreed ', 'mitInfo and calls PreCommitSector or PreCommitSectorBatch with a PreCommitDeposit. It must call ProveCommitSector or ProveCommitAggregate with SectorProveCommitInfowithin some bound to recover the deposit. Initial pledge will then be required at time ofProveCommit. Initial Pledge is usually higher than PreCommitDeposit. Recovered PreCommitDepositwill count towards Initial Pledge and miners only ne', 'ed to top up additional funds atProveCommit. Excess PreCommitDeposit, when it is greater than Initial Pledge, will be returned to the miner. An expired PreCommitmessage will result inPreCommitDepositbeing burned. All Sectors have an explicit expiration epoch declared duringPreCommit. For sectors with deals, all deals must expire before sector expiration. The Miner gains power for this particular s', 'ient Deals: 10xInitial pledge function20 days worth of block reward +share of 30% qa power-normalized circulating supplyInitial Pledge Cap1FIL/32GiB QA PowerMinimum sector lifetime180 daysMaximum sector lifetime540 daysMinimum deal duration180 daysMaximum deal duration540 daysSector Fault Fee2.14 days worth of block rewardSector Fault Detection Fee1.5 days worth of estimated block rewardSector Ter', 'on the time when they joined the network, and (b) to adjust the minting rate based on approximated network utility in order to maintain a relatively steady flow of block rewards over longer time periods.Initial Pledge: The justification for having an initial pledge is as follows: firstly, having an initial pledge forces miners to behave responsibly on their sector commitments and holds them accoun']\n"
     ]
    }
   ],
   "source": [
    "query = \"Is Initial Pledge higher than or lower than PreCommitDeposit?\"\n",
    "# Note query can be in multiple languages\n",
    "\n",
    "query_keyword = \"Initial Pledge\" # With a good search engine step here, you would not need to manually pull a keyword\n",
    "\n",
    "prompt_blob = [i for i in list_of_texts if query_keyword in i]\n",
    "print(len(prompt_blob))\n",
    "print(prompt_blob)"
   ]
  },
  {
   "cell_type": "markdown",
   "metadata": {},
   "source": [
    "## Dynamically Create OpenAI Prompt including most Relevant Content "
   ]
  },
  {
   "cell_type": "code",
   "execution_count": 31,
   "metadata": {},
   "outputs": [
    {
     "name": "stdout",
     "output_type": "stream",
     "text": [
      "Answer the question as truthfully as possible using the provided text, \n",
      "and if the answer is not contained within the text below, say \"I don't know,\n",
      "and finally, provide the answer translated into Spanish, and Chinese Mandarin.\"\n",
      "\n",
      "Context:['balance MUST cover ALL of the following:PreCommit Deposits: When a Miner PreCommits a Sector, they must supply a “precommit deposit” for the Sector, which acts as collateral. If the Sector is not ProveCommitted on time, this deposit is removed and burned.Initial Pledge: When a Miner ProveCommits a Sector, they must supply an “initial pledge” for the Sector, which acts as collateral. If the Sector ', 'd is a mechanism to reduce the initial token commitment by vesting block rewards over time. The third aligns incentives between miner and client, and can allow miners to differentiate themselves in the market. The remainder of this subsection describes each in more detail.Initial Pledge CollateralState reliableTheory Audit n/aEdit this sectionsection-systems.filecoin_mining.miner_collaterals.initi', 'ay creates the necessary sub-linearity. This sub-linearity has been introduced by the Initial Pledge.In general, fault fees are slashed first from the soonest-to-vest unvested block rewards followed by the minerʼs account balance. When a minerʼs balance is insufficient to cover their minimum requirements, their ability to participate in consensus, win block rewards, and grow storage power will be ', 'ket_actor.storage-deal-collateralApart from\\nInitial Pledge Collateral and Block Reward Collateral discussed earlier, the third form of collateral is provided by the storage provider to collateralize deals, is called Storage Deal Collateral and is held in the StorageMarketActor.There is a minimum amount of collateral required by the protocol to provide a minimum level of guarantee, which is agreed ', 'mitInfo and calls PreCommitSector or PreCommitSectorBatch with a PreCommitDeposit. It must call ProveCommitSector or ProveCommitAggregate with SectorProveCommitInfowithin some bound to recover the deposit. Initial pledge will then be required at time ofProveCommit. Initial Pledge is usually higher than PreCommitDeposit. Recovered PreCommitDepositwill count towards Initial Pledge and miners only ne', 'ed to top up additional funds atProveCommit. Excess PreCommitDeposit, when it is greater than Initial Pledge, will be returned to the miner. An expired PreCommitmessage will result inPreCommitDepositbeing burned. All Sectors have an explicit expiration epoch declared duringPreCommit. For sectors with deals, all deals must expire before sector expiration. The Miner gains power for this particular s', 'ient Deals: 10xInitial pledge function20 days worth of block reward +share of 30% qa power-normalized circulating supplyInitial Pledge Cap1FIL/32GiB QA PowerMinimum sector lifetime180 daysMaximum sector lifetime540 daysMinimum deal duration180 daysMaximum deal duration540 daysSector Fault Fee2.14 days worth of block rewardSector Fault Detection Fee1.5 days worth of estimated block rewardSector Ter', 'on the time when they joined the network, and (b) to adjust the minting rate based on approximated network utility in order to maintain a relatively steady flow of block rewards over longer time periods.Initial Pledge: The justification for having an initial pledge is as follows: firstly, having an initial pledge forces miners to behave responsibly on their sector commitments and holds them accoun']\n",
      "\n",
      "Q: Is Initial Pledge higher than or lower than PreCommitDeposit??\n",
      "\n",
      "A:\n"
     ]
    }
   ],
   "source": [
    "prompt = \"\"\"Answer the question as truthfully as possible using the provided text, \n",
    "and if the answer is not contained within the text below, say \"I don't know,\n",
    "and finally, provide the answer translated into Spanish, and Chinese Mandarin.\"\n",
    "\n",
    "Context:\"\"\" + str(prompt_blob) + \"\"\"\n",
    "\n",
    "Q: \"\"\" + query +\"\"\"?\n",
    "\n",
    "A:\"\"\"\n",
    "print(prompt)"
   ]
  },
  {
   "cell_type": "code",
   "execution_count": 32,
   "metadata": {},
   "outputs": [],
   "source": [
    "import openai\n",
    "import os\n",
    "from dotenv import load_dotenv, find_dotenv\n",
    "from pathlib import Path\n",
    "\n",
    "COMPLETIONS_MODEL = \"text-davinci-003\"\n",
    "EMBEDDING_MODEL = \"text-embedding-ada-002\""
   ]
  },
  {
   "cell_type": "code",
   "execution_count": 33,
   "metadata": {},
   "outputs": [],
   "source": [
    "load_dotenv(Path(os.getcwd() + '/.env'))\n",
    "openai.api_key = os.getenv(\"OPENAI_API_KEY\")\n",
    "# print(os.getenv(\"OPENAI_API_KEY\"))"
   ]
  },
  {
   "cell_type": "code",
   "execution_count": 34,
   "metadata": {},
   "outputs": [
    {
     "data": {
      "text/plain": [
       "'Initial Pledge is usually higher than PreCommitDeposit. \\nSpanish: El compromiso inicial suele ser mayor que el depósito de precompromiso.\\nChinese Mandarin: 初始承诺通常高于预提交存款。'"
      ]
     },
     "execution_count": 34,
     "metadata": {},
     "output_type": "execute_result"
    }
   ],
   "source": [
    "openai.Completion.create(\n",
    "    prompt=prompt,\n",
    "    temperature=0,\n",
    "    max_tokens=600,\n",
    "    top_p=1,\n",
    "    frequency_penalty=0,\n",
    "    presence_penalty=0,\n",
    "    model=COMPLETIONS_MODEL\n",
    ")[\"choices\"][0][\"text\"].strip(\" \\n\")"
   ]
  },
  {
   "cell_type": "code",
   "execution_count": null,
   "metadata": {},
   "outputs": [],
   "source": []
  },
  {
   "cell_type": "code",
   "execution_count": null,
   "metadata": {},
   "outputs": [],
   "source": []
  },
  {
   "cell_type": "code",
   "execution_count": null,
   "metadata": {},
   "outputs": [],
   "source": []
  },
  {
   "cell_type": "code",
   "execution_count": null,
   "metadata": {},
   "outputs": [],
   "source": []
  },
  {
   "cell_type": "code",
   "execution_count": null,
   "metadata": {},
   "outputs": [],
   "source": []
  },
  {
   "cell_type": "code",
   "execution_count": null,
   "metadata": {},
   "outputs": [],
   "source": []
  }
 ],
 "metadata": {
  "kernelspec": {
   "display_name": "Python 3 (ipykernel)",
   "language": "python",
   "name": "python3"
  },
  "language_info": {
   "codemirror_mode": {
    "name": "ipython",
    "version": 3
   },
   "file_extension": ".py",
   "mimetype": "text/x-python",
   "name": "python",
   "nbconvert_exporter": "python",
   "pygments_lexer": "ipython3",
   "version": "3.8.10"
  }
 },
 "nbformat": 4,
 "nbformat_minor": 2
}
